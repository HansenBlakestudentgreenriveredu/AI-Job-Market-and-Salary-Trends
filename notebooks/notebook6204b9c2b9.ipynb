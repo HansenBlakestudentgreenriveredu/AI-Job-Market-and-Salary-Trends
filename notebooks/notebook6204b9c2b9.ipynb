{
 "cells": [
  {
   "cell_type": "code",
   "execution_count": 3,
   "metadata": {
    "_cell_guid": "b1076dfc-b9ad-4769-8c92-a6c4dae69d19",
    "_uuid": "8f2839f25d086af736a60e9eeb907d3b93b6e0e5",
    "trusted": true
   },
   "outputs": [
    {
     "name": "stdout",
     "output_type": "stream",
     "text": [
      "Current working directory: c:\\Users\\blake\\Desktop\\AI Special Topics Final\\AI-Job-Market-and-Salary-Trends\\notebooks\n",
      "c:\\Python313\\python.exe\n",
      "    job_id              job_title  salary_usd salary_currency  \\\n",
      "0  AI00001  AI Research Scientist       90376             USD   \n",
      "1  AI00002   AI Software Engineer       61895             USD   \n",
      "2  AI00003          AI Specialist      152626             USD   \n",
      "3  AI00004           NLP Engineer       80215             USD   \n",
      "4  AI00005          AI Consultant       54624             EUR   \n",
      "\n",
      "  experience_level employment_type company_location company_size  \\\n",
      "0               SE              CT            China            M   \n",
      "1               EN              CT           Canada            M   \n",
      "2               MI              FL      Switzerland            L   \n",
      "3               SE              FL            India            M   \n",
      "4               EN              PT           France            S   \n",
      "\n",
      "  employee_residence  remote_ratio  \\\n",
      "0              China            50   \n",
      "1            Ireland           100   \n",
      "2        South Korea             0   \n",
      "3              India            50   \n",
      "4          Singapore           100   \n",
      "\n",
      "                                   required_skills education_required  \\\n",
      "0         Tableau, PyTorch, Kubernetes, Linux, NLP           Bachelor   \n",
      "1  Deep Learning, AWS, Mathematics, Python, Docker             Master   \n",
      "2     Kubernetes, Deep Learning, Java, Hadoop, NLP          Associate   \n",
      "3                        Scala, SQL, Linux, Python                PhD   \n",
      "4                     MLOps, Java, Tableau, Python             Master   \n",
      "\n",
      "   years_experience    industry posting_date application_deadline  \\\n",
      "0                 9  Automotive   2024-10-18           2024-11-07   \n",
      "1                 1       Media   2024-11-20           2025-01-11   \n",
      "2                 2   Education   2025-03-18           2025-04-07   \n",
      "3                 7  Consulting   2024-12-23           2025-02-24   \n",
      "4                 0       Media   2025-04-15           2025-06-23   \n",
      "\n",
      "   job_description_length  benefits_score       company_name  \n",
      "0                    1076             5.9    Smart Analytics  \n",
      "1                    1268             5.2       TechCorp Inc  \n",
      "2                    1974             9.4    Autonomous Tech  \n",
      "3                    1345             8.6     Future Systems  \n",
      "4                    1989             6.6  Advanced Robotics  \n",
      "Index(['job_id', 'job_title', 'salary_usd', 'salary_currency',\n",
      "       'experience_level', 'employment_type', 'company_location',\n",
      "       'company_size', 'employee_residence', 'remote_ratio', 'required_skills',\n",
      "       'education_required', 'years_experience', 'industry', 'posting_date',\n",
      "       'application_deadline', 'job_description_length', 'benefits_score',\n",
      "       'company_name'],\n",
      "      dtype='object')\n"
     ]
    }
   ],
   "source": [
    "import os\n",
    "print(\"Current working directory:\", os.getcwd())\n",
    "\n",
    "import numpy as np # linear algebra\n",
    "import pandas as pd # data processing, CSV file I/O (e.g. pd.read_csv)\n",
    "\n",
    "import sys # Path to Python interpreter\n",
    "print(sys.executable)\n",
    "\n",
    "\n",
    "# Input data files are available in the read-only \"../input/\" directory\n",
    "# For example, running this (by clicking run or pressing Shift+Enter) will list all files under the input directory\n",
    "\n",
    "# Read local csv file\n",
    "df = pd.read_csv(\"../data/ai_job_dataset.csv\")\n",
    "\n",
    "# Helper code to confirm code is running\n",
    "print(df.head())\n",
    "print(df.columns)\n",
    "\n",
    "# Lines below not for local use\n",
    "# import os\n",
    "# for dirname, _, filenames in os.walk('/kaggle/input'):\n",
    "#    for filename in filenames:\n",
    "#        print(os.path.join(dirname, filename))"
   ]
  }
 ],
 "metadata": {
  "kaggle": {
   "accelerator": "none",
   "dataSources": [
    {
     "datasetId": 7564261,
     "sourceId": 12023018,
     "sourceType": "datasetVersion"
    }
   ],
   "isGpuEnabled": false,
   "isInternetEnabled": false,
   "language": "python",
   "sourceType": "notebook"
  },
  "kernelspec": {
   "display_name": "Python 3",
   "language": "python",
   "name": "python3"
  },
  "language_info": {
   "codemirror_mode": {
    "name": "ipython",
    "version": 3
   },
   "file_extension": ".py",
   "mimetype": "text/x-python",
   "name": "python",
   "nbconvert_exporter": "python",
   "pygments_lexer": "ipython3",
   "version": "3.13.1"
  }
 },
 "nbformat": 4,
 "nbformat_minor": 4
}
